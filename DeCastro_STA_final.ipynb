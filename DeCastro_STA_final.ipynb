{
 "cells": [
  {
   "cell_type": "markdown",
   "metadata": {},
   "source": [
    "# Principal Component Analysis as an initial step to Mixture Modeling\n",
    "\n",
    "My master's thesis will include a mixture model of commuting flows within the contiguous United States. Mixture models are probabilistic models that allow researchers to make inferences about the properties of subpopulations within an overall population by detecting similarities between subgroups within the dataset. This type of modeling is very useful for identifying key characteristics of your data, and is able to tease out obivous and underlying relationships between variables.\n",
    "\n",
    "An interesting preliminary analysis that some data scientists investigate before implimenting a mixture model is Principal Component Analysis (PCA). This is a method of dimensionality reduction, a way to reduce the number of potential random variables by developing a set of principal variables. \n",
    "\n",
    "With this in mind, I compare two methods of coding PCA using a subset of the commuting data. One is a step-by-step approach, and the other uses the PCA function from the Python module matplotlib. The purpose of the comparison is simply to work through the mathematical steps involved with computing a PCA and compare it with a canned result to show the differences. This is built off an example in Sebastian Raschka's book, Machine Learning in Python https://sebastianraschka.com/books.html. "
   ]
  },
  {
   "cell_type": "markdown",
   "metadata": {},
   "source": [
    "First we read in the data from a csv file. This data was collected from the American Community Survey, https://www.census.gov/programs-surveys/acs/. "
   ]
  },
  {
   "cell_type": "code",
   "execution_count": 82,
   "metadata": {
    "collapsed": false
   },
   "outputs": [
    {
     "data": {
      "text/html": [
       "<div>\n",
       "<table border=\"1\" class=\"dataframe\">\n",
       "  <thead>\n",
       "    <tr style=\"text-align: right;\">\n",
       "      <th></th>\n",
       "      <th>Unnamed: 0</th>\n",
       "      <th>DGEOID</th>\n",
       "      <th>OGEOID</th>\n",
       "      <th>ny.commuters.OSName</th>\n",
       "      <th>ny.commuters.OCName</th>\n",
       "      <th>ny.commuters.DSName</th>\n",
       "      <th>ny.commuters.DCName</th>\n",
       "      <th>ny.commuters.Commuters</th>\n",
       "      <th>ny.commuters.MOE</th>\n",
       "      <th>DPop</th>\n",
       "      <th>OPop</th>\n",
       "      <th>DIST</th>\n",
       "    </tr>\n",
       "  </thead>\n",
       "  <tbody>\n",
       "    <tr>\n",
       "      <th>0</th>\n",
       "      <td>1</td>\n",
       "      <td>1035</td>\n",
       "      <td>36047</td>\n",
       "      <td>New York</td>\n",
       "      <td>Kings County</td>\n",
       "      <td>Alabama</td>\n",
       "      <td>Conecuh County</td>\n",
       "      <td>13</td>\n",
       "      <td>22</td>\n",
       "      <td>13228</td>\n",
       "      <td>2504700</td>\n",
       "      <td>15.964518</td>\n",
       "    </tr>\n",
       "    <tr>\n",
       "      <th>1</th>\n",
       "      <td>2</td>\n",
       "      <td>1049</td>\n",
       "      <td>36029</td>\n",
       "      <td>New York</td>\n",
       "      <td>Erie County</td>\n",
       "      <td>Alabama</td>\n",
       "      <td>DeKalb County</td>\n",
       "      <td>20</td>\n",
       "      <td>30</td>\n",
       "      <td>71109</td>\n",
       "      <td>919040</td>\n",
       "      <td>10.872343</td>\n",
       "    </tr>\n",
       "    <tr>\n",
       "      <th>2</th>\n",
       "      <td>3</td>\n",
       "      <td>1073</td>\n",
       "      <td>36047</td>\n",
       "      <td>New York</td>\n",
       "      <td>Kings County</td>\n",
       "      <td>Alabama</td>\n",
       "      <td>Jefferson County</td>\n",
       "      <td>41</td>\n",
       "      <td>34</td>\n",
       "      <td>658466</td>\n",
       "      <td>2504700</td>\n",
       "      <td>14.755786</td>\n",
       "    </tr>\n",
       "    <tr>\n",
       "      <th>3</th>\n",
       "      <td>4</td>\n",
       "      <td>1073</td>\n",
       "      <td>36055</td>\n",
       "      <td>New York</td>\n",
       "      <td>Monroe County</td>\n",
       "      <td>Alabama</td>\n",
       "      <td>Jefferson County</td>\n",
       "      <td>17</td>\n",
       "      <td>26</td>\n",
       "      <td>658466</td>\n",
       "      <td>744344</td>\n",
       "      <td>13.420039</td>\n",
       "    </tr>\n",
       "    <tr>\n",
       "      <th>4</th>\n",
       "      <td>5</td>\n",
       "      <td>1073</td>\n",
       "      <td>36061</td>\n",
       "      <td>New York</td>\n",
       "      <td>New York County</td>\n",
       "      <td>Alabama</td>\n",
       "      <td>Jefferson County</td>\n",
       "      <td>28</td>\n",
       "      <td>32</td>\n",
       "      <td>658466</td>\n",
       "      <td>1585873</td>\n",
       "      <td>14.806362</td>\n",
       "    </tr>\n",
       "  </tbody>\n",
       "</table>\n",
       "</div>"
      ],
      "text/plain": [
       "   Unnamed: 0  DGEOID  OGEOID ny.commuters.OSName ny.commuters.OCName  \\\n",
       "0           1    1035   36047            New York        Kings County   \n",
       "1           2    1049   36029            New York         Erie County   \n",
       "2           3    1073   36047            New York        Kings County   \n",
       "3           4    1073   36055            New York       Monroe County   \n",
       "4           5    1073   36061            New York     New York County   \n",
       "\n",
       "  ny.commuters.DSName ny.commuters.DCName  ny.commuters.Commuters  \\\n",
       "0             Alabama      Conecuh County                      13   \n",
       "1             Alabama       DeKalb County                      20   \n",
       "2             Alabama    Jefferson County                      41   \n",
       "3             Alabama    Jefferson County                      17   \n",
       "4             Alabama    Jefferson County                      28   \n",
       "\n",
       "   ny.commuters.MOE    DPop     OPop       DIST  \n",
       "0                22   13228  2504700  15.964518  \n",
       "1                30   71109   919040  10.872343  \n",
       "2                34  658466  2504700  14.755786  \n",
       "3                26  658466   744344  13.420039  \n",
       "4                32  658466  1585873  14.806362  "
      ]
     },
     "execution_count": 82,
     "metadata": {},
     "output_type": "execute_result"
    }
   ],
   "source": [
    "import pandas as pd\n",
    "NY = pd.read_csv(\"~/Desktop/NY.csv\")\n",
    "NY.head()"
   ]
  },
  {
   "cell_type": "code",
   "execution_count": 84,
   "metadata": {
    "collapsed": false
   },
   "outputs": [
    {
     "data": {
      "text/plain": [
       "(4382, 12)"
      ]
     },
     "execution_count": 84,
     "metadata": {},
     "output_type": "execute_result"
    }
   ],
   "source": [
    "NY.shape"
   ]
  },
  {
   "cell_type": "markdown",
   "metadata": {},
   "source": [
    "The original data table has more information than we need, so we'll pare it down to just a few indicators; the response variable, 'Flow', and two of the input variables, the commuting distance (Dist) and the population of the origin county (OPop). I'm purposefully choosing only three variables because this will make visualization a bit easier. "
   ]
  },
  {
   "cell_type": "code",
   "execution_count": 85,
   "metadata": {
    "collapsed": false
   },
   "outputs": [
    {
     "data": {
      "text/html": [
       "<div>\n",
       "<table border=\"1\" class=\"dataframe\">\n",
       "  <thead>\n",
       "    <tr style=\"text-align: right;\">\n",
       "      <th></th>\n",
       "      <th>Flows</th>\n",
       "      <th>Dist</th>\n",
       "      <th>OPop</th>\n",
       "    </tr>\n",
       "  </thead>\n",
       "  <tbody>\n",
       "    <tr>\n",
       "      <th>0</th>\n",
       "      <td>13</td>\n",
       "      <td>15.964518</td>\n",
       "      <td>2504700</td>\n",
       "    </tr>\n",
       "    <tr>\n",
       "      <th>1</th>\n",
       "      <td>20</td>\n",
       "      <td>10.872343</td>\n",
       "      <td>919040</td>\n",
       "    </tr>\n",
       "    <tr>\n",
       "      <th>2</th>\n",
       "      <td>41</td>\n",
       "      <td>14.755786</td>\n",
       "      <td>2504700</td>\n",
       "    </tr>\n",
       "    <tr>\n",
       "      <th>3</th>\n",
       "      <td>17</td>\n",
       "      <td>13.420039</td>\n",
       "      <td>744344</td>\n",
       "    </tr>\n",
       "    <tr>\n",
       "      <th>4</th>\n",
       "      <td>28</td>\n",
       "      <td>14.806362</td>\n",
       "      <td>1585873</td>\n",
       "    </tr>\n",
       "  </tbody>\n",
       "</table>\n",
       "</div>"
      ],
      "text/plain": [
       "   Flows       Dist     OPop\n",
       "0     13  15.964518  2504700\n",
       "1     20  10.872343   919040\n",
       "2     41  14.755786  2504700\n",
       "3     17  13.420039   744344\n",
       "4     28  14.806362  1585873"
      ]
     },
     "execution_count": 85,
     "metadata": {},
     "output_type": "execute_result"
    }
   ],
   "source": [
    "counts = NY[['Flows', 'Dist', 'OPop']]\n",
    "counts.head()"
   ]
  },
  {
   "cell_type": "code",
   "execution_count": 126,
   "metadata": {
    "collapsed": false
   },
   "outputs": [
    {
     "data": {
      "text/plain": [
       "(4382, 3)"
      ]
     },
     "execution_count": 126,
     "metadata": {},
     "output_type": "execute_result"
    }
   ],
   "source": [
    "counts.shape"
   ]
  },
  {
   "cell_type": "markdown",
   "metadata": {},
   "source": [
    "The subsequent matrix code will rely on a row vector, so transpose the matrix. "
   ]
  },
  {
   "cell_type": "code",
   "execution_count": 127,
   "metadata": {
    "collapsed": false
   },
   "outputs": [
    {
     "data": {
      "text/html": [
       "<div>\n",
       "<table border=\"1\" class=\"dataframe\">\n",
       "  <thead>\n",
       "    <tr style=\"text-align: right;\">\n",
       "      <th></th>\n",
       "      <th>0</th>\n",
       "      <th>1</th>\n",
       "      <th>2</th>\n",
       "      <th>3</th>\n",
       "      <th>4</th>\n",
       "      <th>5</th>\n",
       "      <th>6</th>\n",
       "      <th>7</th>\n",
       "      <th>8</th>\n",
       "      <th>9</th>\n",
       "      <th>...</th>\n",
       "      <th>4372</th>\n",
       "      <th>4373</th>\n",
       "      <th>4374</th>\n",
       "      <th>4375</th>\n",
       "      <th>4376</th>\n",
       "      <th>4377</th>\n",
       "      <th>4378</th>\n",
       "      <th>4379</th>\n",
       "      <th>4380</th>\n",
       "      <th>4381</th>\n",
       "    </tr>\n",
       "  </thead>\n",
       "  <tbody>\n",
       "    <tr>\n",
       "      <th>Flows</th>\n",
       "      <td>1.300000e+01</td>\n",
       "      <td>20.000000</td>\n",
       "      <td>4.100000e+01</td>\n",
       "      <td>17.000000</td>\n",
       "      <td>2.800000e+01</td>\n",
       "      <td>11.000000</td>\n",
       "      <td>9.00000</td>\n",
       "      <td>4.000000e+00</td>\n",
       "      <td>15.000000</td>\n",
       "      <td>7.000000</td>\n",
       "      <td>...</td>\n",
       "      <td>39.00000</td>\n",
       "      <td>1.100000e+01</td>\n",
       "      <td>2.000000</td>\n",
       "      <td>3.000000</td>\n",
       "      <td>9.000000</td>\n",
       "      <td>4.000000</td>\n",
       "      <td>9.000000</td>\n",
       "      <td>17.000000</td>\n",
       "      <td>1.700000e+01</td>\n",
       "      <td>10.000000</td>\n",
       "    </tr>\n",
       "    <tr>\n",
       "      <th>Dist</th>\n",
       "      <td>1.596452e+01</td>\n",
       "      <td>10.872343</td>\n",
       "      <td>1.475579e+01</td>\n",
       "      <td>13.420039</td>\n",
       "      <td>1.480636e+01</td>\n",
       "      <td>14.947576</td>\n",
       "      <td>12.90024</td>\n",
       "      <td>1.555509e+01</td>\n",
       "      <td>14.818637</td>\n",
       "      <td>14.977298</td>\n",
       "      <td>...</td>\n",
       "      <td>14.10671</td>\n",
       "      <td>1.494570e+01</td>\n",
       "      <td>11.049371</td>\n",
       "      <td>15.198075</td>\n",
       "      <td>12.532126</td>\n",
       "      <td>10.263516</td>\n",
       "      <td>13.481606</td>\n",
       "      <td>27.083539</td>\n",
       "      <td>3.581469e+01</td>\n",
       "      <td>28.925942</td>\n",
       "    </tr>\n",
       "    <tr>\n",
       "      <th>OPop</th>\n",
       "      <td>2.504700e+06</td>\n",
       "      <td>919040.000000</td>\n",
       "      <td>2.504700e+06</td>\n",
       "      <td>744344.000000</td>\n",
       "      <td>1.585873e+06</td>\n",
       "      <td>311687.000000</td>\n",
       "      <td>98990.00000</td>\n",
       "      <td>1.493350e+06</td>\n",
       "      <td>304204.000000</td>\n",
       "      <td>80317.000000</td>\n",
       "      <td>...</td>\n",
       "      <td>50219.00000</td>\n",
       "      <td>1.585873e+06</td>\n",
       "      <td>80317.000000</td>\n",
       "      <td>51599.000000</td>\n",
       "      <td>25348.000000</td>\n",
       "      <td>48946.000000</td>\n",
       "      <td>88830.000000</td>\n",
       "      <td>744344.000000</td>\n",
       "      <td>1.585873e+06</td>\n",
       "      <td>919040.000000</td>\n",
       "    </tr>\n",
       "  </tbody>\n",
       "</table>\n",
       "<p>3 rows × 4382 columns</p>\n",
       "</div>"
      ],
      "text/plain": [
       "               0              1             2              3             4     \\\n",
       "Flows  1.300000e+01      20.000000  4.100000e+01      17.000000  2.800000e+01   \n",
       "Dist   1.596452e+01      10.872343  1.475579e+01      13.420039  1.480636e+01   \n",
       "OPop   2.504700e+06  919040.000000  2.504700e+06  744344.000000  1.585873e+06   \n",
       "\n",
       "                5            6             7              8             9     \\\n",
       "Flows      11.000000      9.00000  4.000000e+00      15.000000      7.000000   \n",
       "Dist       14.947576     12.90024  1.555509e+01      14.818637     14.977298   \n",
       "OPop   311687.000000  98990.00000  1.493350e+06  304204.000000  80317.000000   \n",
       "\n",
       "           ...               4372          4373          4374          4375  \\\n",
       "Flows      ...           39.00000  1.100000e+01      2.000000      3.000000   \n",
       "Dist       ...           14.10671  1.494570e+01     11.049371     15.198075   \n",
       "OPop       ...        50219.00000  1.585873e+06  80317.000000  51599.000000   \n",
       "\n",
       "               4376          4377          4378           4379          4380  \\\n",
       "Flows      9.000000      4.000000      9.000000      17.000000  1.700000e+01   \n",
       "Dist      12.532126     10.263516     13.481606      27.083539  3.581469e+01   \n",
       "OPop   25348.000000  48946.000000  88830.000000  744344.000000  1.585873e+06   \n",
       "\n",
       "                4381  \n",
       "Flows      10.000000  \n",
       "Dist       28.925942  \n",
       "OPop   919040.000000  \n",
       "\n",
       "[3 rows x 4382 columns]"
      ]
     },
     "execution_count": 127,
     "metadata": {},
     "output_type": "execute_result"
    }
   ],
   "source": [
    "counts2 = pd.DataFrame.transpose(counts)\n",
    "counts2.head()"
   ]
  },
  {
   "cell_type": "markdown",
   "metadata": {},
   "source": [
    "Calculate the empirical mean of each row vector. "
   ]
  },
  {
   "cell_type": "code",
   "execution_count": 93,
   "metadata": {
    "collapsed": false
   },
   "outputs": [
    {
     "name": "stdout",
     "output_type": "stream",
     "text": [
      "Mean Vector:\n",
      " [[  2.01050411e+03]\n",
      " [  6.43082860e+00]\n",
      " [  5.72162875e+05]]\n"
     ]
    }
   ],
   "source": [
    "mean_x = np.mean(counts2.iloc[0,:])\n",
    "mean_y = np.mean(counts2.iloc[1,:])\n",
    "mean_z = np.mean(counts2.iloc[2,:])\n",
    "\n",
    "mean_vector = np.array([[mean_x],[mean_y],[mean_z]])\n",
    "\n",
    "print('Mean Vector:\\n', mean_vector)"
   ]
  },
  {
   "cell_type": "markdown",
   "metadata": {},
   "source": [
    "Now we'll create a scatter matrix of deviations from the mean by subtracting the empirical mean vector from each row in the data matrix. The deviations will be stored in a new matrix."
   ]
  },
  {
   "cell_type": "code",
   "execution_count": 95,
   "metadata": {
    "collapsed": false
   },
   "outputs": [
    {
     "name": "stdout",
     "output_type": "stream",
     "text": [
      "Scatter Matrix:\n",
      " [[  2.28543520e+12  -5.49635692e+07   5.51571417e+12]\n",
      " [ -5.49635692e+07   4.79100243e+05   5.79561667e+09]\n",
      " [  5.51571417e+12   5.79561667e+09   2.24796549e+15]]\n"
     ]
    }
   ],
   "source": [
    "scatter_matrix = np.zeros((3,3))\n",
    "for i in range(counts2.shape[1]):\n",
    "    scatter_matrix += (counts2.iloc[:,i].reshape(3,1) - mean_vector).dot((counts2.iloc[:,i].reshape(3,1) - mean_vector).T)\n",
    "print('Scatter Matrix:\\n', scatter_matrix)"
   ]
  },
  {
   "cell_type": "markdown",
   "metadata": {},
   "source": [
    "Now we can calculate the empirical covariance matrix from the outer product of the scatter matrix with itself. "
   ]
  },
  {
   "cell_type": "code",
   "execution_count": 96,
   "metadata": {
    "collapsed": false
   },
   "outputs": [
    {
     "name": "stdout",
     "output_type": "stream",
     "text": [
      "Covariance Matrix:\n",
      " [[  5.21669756e+08  -1.25458957e+04   1.25900803e+09]\n",
      " [ -1.25458957e+04   1.09358649e+02   1.32289812e+06]\n",
      " [  1.25900803e+09   1.32289812e+06   5.13116981e+11]]\n"
     ]
    }
   ],
   "source": [
    "cov_mat = np.cov([counts2.iloc[0,:], counts2.iloc[1,:], counts2.iloc[2,:]])\n",
    "print('Covariance Matrix:\\n', cov_mat)"
   ]
  },
  {
   "cell_type": "markdown",
   "metadata": {},
   "source": [
    "Now we'll calculate the eigenvalues and eigenvectors of both the scatter matrix and the covariance matrix. "
   ]
  },
  {
   "cell_type": "code",
   "execution_count": 97,
   "metadata": {
    "collapsed": true
   },
   "outputs": [],
   "source": [
    "eig_val_sc, eig_vec_sc = np.linalg.eig(scatter_matrix)"
   ]
  },
  {
   "cell_type": "code",
   "execution_count": 98,
   "metadata": {
    "collapsed": true
   },
   "outputs": [],
   "source": [
    "eig_val_cov, eig_vec_cov = np.linalg.eig(cov_mat)"
   ]
  },
  {
   "cell_type": "code",
   "execution_count": 132,
   "metadata": {
    "collapsed": false
   },
   "outputs": [
    {
     "name": "stdout",
     "output_type": "stream",
     "text": [
      "Eigenvector 1: \n",
      "[[ -2.45612203e-03]\n",
      " [ -2.57807750e-06]\n",
      " [ -9.99996984e-01]]\n",
      "Eigenvalue 1 from scatter matrix: 2247979040851715.5\n",
      "Eigenvalue 1 from covariance matrix: 513120073237.0985\n",
      "Scaling factor:  4381.0\n",
      "------------------------------------------------------------\n",
      "Eigenvector 2: \n",
      "[[  9.99996983e-01]\n",
      " [ -3.04584392e-05]\n",
      " [ -2.45612195e-03]]\n",
      "Eigenvalue 2 from scatter matrix: 2271887894444.958\n",
      "Eigenvalue 2 from covariance matrix: 518577469.6290688\n",
      "Scaling factor:  4381.0\n",
      "------------------------------------------------------------\n",
      "Eigenvector 3: \n",
      "[[  3.04520152e-05]\n",
      " [  1.00000000e+00]\n",
      " [ -2.65287937e-06]]\n",
      "Eigenvalue 3 from scatter matrix: 462051.4193797345\n",
      "Eigenvalue 3 from covariance matrix: 105.4671123903178\n",
      "Scaling factor:  4380.99999998\n",
      "------------------------------------------------------------\n"
     ]
    }
   ],
   "source": [
    "for i in range(len(eig_val_sc)):\n",
    "    eigvec_sc = eig_vec_sc[:,i].reshape(1,3).T\n",
    "    eigvec_cov = eig_vec_cov[:,i].reshape(1,3).T\n",
    "    assert eigvec_sc.all() == eigvec_cov.all()\n",
    "\n",
    "    print('Eigenvector {}: \\n{}'.format(i+1, eigvec_sc))\n",
    "    print('Eigenvalue {} from scatter matrix: {}'.format(i+1, eig_val_sc[i]))\n",
    "    print('Eigenvalue {} from covariance matrix: {}'.format(i+1, eig_val_cov[i]))\n",
    "    print('Scaling factor: ', eig_val_sc[i]/eig_val_cov[i])\n",
    "    print(60 * '-')"
   ]
  },
  {
   "cell_type": "markdown",
   "metadata": {},
   "source": [
    "Plotting the eigenvectors is sadly, unfruitful since there are so many data points..."
   ]
  },
  {
   "cell_type": "code",
   "execution_count": 137,
   "metadata": {
    "collapsed": false
   },
   "outputs": [
    {
     "name": "stdout",
     "output_type": "stream",
     "text": [
      "Populating the interactive namespace from numpy and matplotlib\n"
     ]
    },
    {
     "data": {
      "image/png": "[encoded data removed]",
      "text/plain": [
       "<matplotlib.figure.Figure at 0x119365518>"
      ]
     },
     "metadata": {},
     "output_type": "display_data"
    }
   ],
   "source": [
    "%pylab inline\n",
    "\n",
    "from matplotlib import pyplot as plt\n",
    "from mpl_toolkits.mplot3d import Axes3D\n",
    "from mpl_toolkits.mplot3d import proj3d\n",
    "from matplotlib.patches import FancyArrowPatch\n",
    "\n",
    "\n",
    "class Arrow3D(FancyArrowPatch):\n",
    "    def __init__(self, xs, ys, zs, *args, **kwargs):\n",
    "        FancyArrowPatch.__init__(self, (0,0), (0,0), *args, **kwargs)\n",
    "        self._verts3d = xs, ys, zs\n",
    "\n",
    "    def draw(self, renderer):\n",
    "        xs3d, ys3d, zs3d = self._verts3d\n",
    "        xs, ys, zs = proj3d.proj_transform(xs3d, ys3d, zs3d, renderer.M)\n",
    "        self.set_positions((xs[0],ys[0]),(xs[1],ys[1]))\n",
    "        FancyArrowPatch.draw(self, renderer)\n",
    "\n",
    "fig = plt.figure(figsize=(7,7))\n",
    "ax = fig.add_subplot(111, projection='3d')\n",
    "\n",
    "ax.plot(counts2.iloc[0,:], counts2.iloc[1,:], counts2.iloc[2,:], 'o', markersize=8, color='green', alpha=0.2)\n",
    "ax.plot([mean_x], [mean_y], [mean_z], 'o', markersize=10, color='red', alpha=0.5)\n",
    "for v in eig_vec_sc.T:\n",
    "    a = Arrow3D([mean_x, v[0]], [mean_y, v[1]], [mean_z, v[2]], mutation_scale=80, lw=3, arrowstyle=\"-|>\", color=\"r\")\n",
    "    ax.add_artist(a)\n",
    "ax.set_xlabel('x_values')\n",
    "ax.set_ylabel('y_values')\n",
    "ax.set_zlabel('z_values')\n",
    "\n",
    "plt.title('Eigenvectors')\n",
    "\n",
    "plt.show()"
   ]
  },
  {
   "cell_type": "markdown",
   "metadata": {},
   "source": [
    "Moving forward, we want to sort the columns of the eigenvector and eigenvalue matrices in decreasing order, but maintain the correct pairings between columns of each matrix.  "
   ]
  },
  {
   "cell_type": "code",
   "execution_count": 106,
   "metadata": {
    "collapsed": true
   },
   "outputs": [],
   "source": [
    "for ev in eig_vec_sc:\n",
    "    numpy.testing.assert_array_almost_equal(1.0, np.linalg.norm(ev))"
   ]
  },
  {
   "cell_type": "markdown",
   "metadata": {},
   "source": [
    "Recall that the goal is to obtain a smaller set of variables, so now we want to decide which pairs of eigenvalues should be dropped in order to create that smaller set. Eigenvectors with the lowest eigenvalues will be dropped and eigenvectors with the highest eigenvalues will be used to construct a new eigenvector matrix. Notice that we've lost one dimension in doing this, we've gone from a 3 x 3 to a 3 x 2 eigenvector matrix. -So we've successfully decreased the number of potential variables. "
   ]
  },
  {
   "cell_type": "code",
   "execution_count": 107,
   "metadata": {
    "collapsed": false
   },
   "outputs": [
    {
     "name": "stdout",
     "output_type": "stream",
     "text": [
      "2.24797904085e+15\n",
      "2.27188789444e+12\n",
      "462051.41938\n"
     ]
    }
   ],
   "source": [
    "eig_pairs = [(np.abs(eig_val_sc[i]), eig_vec_sc[:,i]) for i in range(len(eig_val_sc))]\n",
    "\n",
    "eig_pairs.sort(key=lambda x: x[0], reverse=True)\n",
    "\n",
    "for i in eig_pairs:\n",
    "    print(i[0])"
   ]
  },
  {
   "cell_type": "code",
   "execution_count": 108,
   "metadata": {
    "collapsed": false
   },
   "outputs": [
    {
     "name": "stdout",
     "output_type": "stream",
     "text": [
      "Matrix W:\n",
      " [[ -2.45612203e-03   9.99996983e-01]\n",
      " [ -2.57807750e-06  -3.04584392e-05]\n",
      " [ -9.99996984e-01  -2.45612195e-03]]\n"
     ]
    }
   ],
   "source": [
    "matrix_w = np.hstack((eig_pairs[0][1].reshape(3,1), eig_pairs[1][1].reshape(3,1)))\n",
    "print('Matrix W:\\n', matrix_w)"
   ]
  },
  {
   "cell_type": "code",
   "execution_count": 111,
   "metadata": {
    "collapsed": false
   },
   "outputs": [
    {
     "data": {
      "text/plain": [
       "(3, 2)"
      ]
     },
     "execution_count": 111,
     "metadata": {},
     "output_type": "execute_result"
    }
   ],
   "source": [
    "matrix_w.shape"
   ]
  },
  {
   "cell_type": "markdown",
   "metadata": {},
   "source": [
    "Now we transform the remaining data into a new subspace, and our principal component analysis is complete. "
   ]
  },
  {
   "cell_type": "code",
   "execution_count": 120,
   "metadata": {
    "collapsed": false
   },
   "outputs": [
    {
     "data": {
      "text/plain": [
       "(2, 4382)"
      ]
     },
     "execution_count": 120,
     "metadata": {},
     "output_type": "execute_result"
    }
   ],
   "source": [
    "transformed = matrix_w.T.dot(counts2)\n",
    "assert transformed.shape == (2,4382)\n",
    "transformed.shape"
   ]
  },
  {
   "cell_type": "markdown",
   "metadata": {},
   "source": [
    "We can see that the new subspace has a reduced dimension, which is what we wanted. Now we'll try using the canned PCA function from matplotlib. But first, it would be helpful to have a visual for comparison, so we let's plot the transformed data. "
   ]
  },
  {
   "cell_type": "code",
   "execution_count": 122,
   "metadata": {
    "collapsed": false
   },
   "outputs": [
    {
     "data": {
      "image/png": "[encoded data removed]",
      "text/plain": [
       "<matplotlib.figure.Figure at 0x119356e80>"
      ]
     },
     "metadata": {},
     "output_type": "display_data"
    }
   ],
   "source": [
    "plt.plot(transformed[0,0:2164], transformed[1,0:2164], 'o', markersize=7, color='blue', alpha=0.5, label='class1')\n",
    "plt.plot(transformed[0,2164:4328], transformed[1,2164:4328], '^', markersize=7, color='red', alpha=0.5, label='class2')\n",
    "plt.xlim([-700000,700000])\n",
    "plt.ylim([-40,40])\n",
    "plt.xlabel('x_values')\n",
    "plt.ylabel('y_values')\n",
    "plt.legend()\n",
    "plt.title('Transformed samples with class labels')\n",
    "\n",
    "plt.show()"
   ]
  },
  {
   "cell_type": "markdown",
   "metadata": {},
   "source": [
    "Now implimenting the matplotlib function, and plotting it. "
   ]
  },
  {
   "cell_type": "code",
   "execution_count": 123,
   "metadata": {
    "collapsed": false
   },
   "outputs": [
    {
     "name": "stdout",
     "output_type": "stream",
     "text": [
      "PC axes in terms of the measurement axes scaled by the standard deviations:\n",
      " [[-0.11075578 -0.68227557 -0.72265705]\n",
      " [-0.9132906   0.35664195 -0.19674046]\n",
      " [-0.39196103 -0.63820574  0.66261602]]\n"
     ]
    }
   ],
   "source": [
    "from matplotlib.mlab import PCA as mlabPCA\n",
    "\n",
    "mlab_pca = mlabPCA(counts2.T)\n",
    "\n",
    "print('PC axes in terms of the measurement axes scaled by the standard deviations:\\n', mlab_pca.Wt)\n"
   ]
  },
  {
   "cell_type": "code",
   "execution_count": 124,
   "metadata": {
    "collapsed": false
   },
   "outputs": [
    {
     "data": {
      "image/png": "[encoded data removed]",
      "text/plain": [
       "<matplotlib.figure.Figure at 0x121a72978>"
      ]
     },
     "metadata": {},
     "output_type": "display_data"
    }
   ],
   "source": [
    "plt.plot(mlab_pca.Y[0:2164,0],mlab_pca.Y[0:2164,1], 'o', markersize=7, color='blue', alpha=0.5, label='class1')\n",
    "plt.plot(mlab_pca.Y[2164:4328,0], mlab_pca.Y[2164:4328,1], '^', markersize=7, color='red', alpha=0.5, label='class2')\n",
    "\n",
    "plt.xlabel('x_values')\n",
    "plt.ylabel('y_values')\n",
    "plt.xlim([-700000,700000])\n",
    "plt.ylim([-40,40])\n",
    "plt.legend()\n",
    "plt.title('Transformed samples with class labels from matplotlib.mlab.PCA()')\n",
    "\n",
    "plt.show()"
   ]
  },
  {
   "cell_type": "markdown",
   "metadata": {},
   "source": [
    "Notice that this does not look like our step-by-step plot. The contribution of each variable to the principal component analysis is dependent on its variance. Matplotlib scales each variable so that it has a unit variance *before* determining the covariance matrix. So, the principal components in our step-by-step analysis are not the same as the principal components from the Matplotlib analysis. And in fact, the Matplotlib analysis may be more appropriate if we can't assume our variables have the same units. \n",
    "\n",
    "The Python module SciKit-Learn also has a canned function for producing a PCA. Out of curiosity, let's see how it compares to our other two PCA's. "
   ]
  },
  {
   "cell_type": "code",
   "execution_count": 125,
   "metadata": {
    "collapsed": false
   },
   "outputs": [
    {
     "data": {
      "image/png": "[encoded data removed]",
      "text/plain": [
       "<matplotlib.figure.Figure at 0x119a341d0>"
      ]
     },
     "metadata": {},
     "output_type": "display_data"
    }
   ],
   "source": [
    "from sklearn.decomposition import PCA as sklearnPCA\n",
    "\n",
    "sklearn_pca = sklearnPCA(n_components=2)\n",
    "sklearn_transf = sklearn_pca.fit_transform(counts2.T)\n",
    "\n",
    "plt.plot(mlab_pca.Y[0:2164,0],mlab_pca.Y[0:2164,1], 'o', markersize=7, color='blue', alpha=0.5, label='class1')\n",
    "plt.plot(mlab_pca.Y[2164:4328,0], mlab_pca.Y[2164:4328,1], '^', markersize=7, color='red', alpha=0.5, label='class2')\n",
    "\n",
    "plt.xlabel('x_values')\n",
    "plt.ylabel('y_values')\n",
    "plt.xlim([-700000,700000])\n",
    "plt.ylim([-40,40])\n",
    "plt.legend()\n",
    "plt.title('Transformed samples with class labels from matplotlib.mlab.PCA()')\n",
    "\n",
    "plt.show()"
   ]
  },
  {
   "cell_type": "markdown",
   "metadata": {},
   "source": [
    "SciKit-Learn's PCA function produces a plot similar to that of MatPlotLib. However, if our components weren't centered at zero, we would see the the eigenvalues in this PCA function are allowed to be negative. -This is easily resolved by multiplying the matrices by -1.  "
   ]
  },
  {
   "cell_type": "markdown",
   "metadata": {},
   "source": [
    "So, how exactly does this relate to mixture models? \n",
    "\n",
    "In a publication by Mike E. Tipping and Christopher M. Bishop, http://www.miketipping.com/papers/met-mppca.pdf PCA is calculated within a maximum-likelihood framework, resulting in a well-defined mixture model. Christopher Bishop continued this work, using it within a Bayesian framework, https://papers.nips.cc/paper/1549-bayesian-pca.pdf. This method has the benefit of determining the effective number of principal components by allowing an automated selection of model dimensionality. -This avoids the tedium of numerically analysizing the optimal number of dimensions. "
   ]
  },
  {
   "cell_type": "markdown",
   "metadata": {},
   "source": [
    "A Bayesian PCA can be obtained by assigning a prior distribution to the model parameters. To automatically determine an effective dimensionality for the latent space, Bishop suggests using a hierarchical prior on the covariance matrix that is dependent on a vector of hyper-parameters. Each hyper-parameter effects one column of the covariance matrix through a conditional Gaussian distribution. \n",
    "\n",
    "To actually use the model, we can use one of three methods:\n",
    "\n",
    "1.) Find the type-II maximum likelihood using a local Gaussian approximation to a mode of the posterior distribution.\n",
    "\n",
    "2.) Use a Markov Chain Monte Carlo Simulation using Gibbs sampling. Or,\n",
    "\n",
    "3.) Use a variational inference by finding a factorized approximation to the posterior distribution. \n",
    "\n",
    "...That third one doesn't sound very fun. \n",
    "\n",
    "However, the first two can be done easily either in R or Python, so we're on our way to mixture models. \n",
    "\n",
    "The Bayesian version of PCAs are particularly useful for small data sets in high dimensions. This version avoids the singularities associated with maximum likelihood PCAs by suppressing unwanted degrees of freedom in the model. When constructing a mixture model, this is advantageous because the effective number of data points associated with specific 'clusters' can be small even when the total number of data points is large. -Which is how I might expect the commuting data to behave. "
   ]
  }
 ],
 "metadata": {
  "anaconda-cloud": {},
  "kernelspec": {
   "display_name": "Python [Root]",
   "language": "python",
   "name": "Python [Root]"
  },
  "language_info": {
   "codemirror_mode": {
    "name": "ipython",
    "version": 3
   },
   "file_extension": ".py",
   "mimetype": "text/x-python",
   "name": "python",
   "nbconvert_exporter": "python",
   "pygments_lexer": "ipython3",
   "version": "3.5.2"
  }
 },
 "nbformat": 4,
 "nbformat_minor": 0
}
